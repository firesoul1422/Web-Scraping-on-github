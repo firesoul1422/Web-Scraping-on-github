{
  "nbformat": 4,
  "nbformat_minor": 0,
  "metadata": {
    "colab": {
      "provenance": []
    },
    "kernelspec": {
      "name": "python3",
      "display_name": "Python 3"
    },
    "language_info": {
      "name": "python"
    }
  },
  "cells": [
    {
      "cell_type": "markdown",
      "source": [
        "#Web Scraping top topic from gethub\n",
        "##What we will extract:\n",
        "- 1  **username**\n",
        "- 2  **repostire's name**\n",
        "- 3  **number of stars**\n",
        "- 4  **url**\n",
        "\n",
        "\n",
        "###We will also extract topic name to store it in csv file that has tha same name as the topic name\n",
        "\n"
      ],
      "metadata": {
        "id": "gN9rMKznKmxM"
      }
    },
    {
      "cell_type": "code",
      "source": [
        "#import libraries\n",
        "import csv\n",
        "import pandas as pd\n",
        "import numpy as np\n",
        "import matplotlib.pyplot as plt\n",
        "import os\n",
        "import requests\n",
        "from bs4 import BeautifulSoup\n",
        "import re"
      ],
      "metadata": {
        "id": "zB5XP6tHLu6e"
      },
      "execution_count": 194,
      "outputs": []
    },
    {
      "cell_type": "code",
      "source": [
        "#topics page url\n",
        "MAIN_URL = \"https://github.com/topics\""
      ],
      "metadata": {
        "id": "ATAh2SDfLepA"
      },
      "execution_count": 248,
      "outputs": []
    },
    {
      "cell_type": "code",
      "source": [
        "#get the html of the page\n",
        "url = requests.get(MAIN_URL)\n",
        "soup = BeautifulSoup(url.text, \"html.parser\")"
      ],
      "metadata": {
        "id": "wxRvI7IhLryS"
      },
      "execution_count": 196,
      "outputs": []
    },
    {
      "cell_type": "code",
      "source": [
        "#preproces the html to extract what we need\n",
        "\n",
        "username_list = []\n",
        "repositry_name_list = []\n",
        "rating_list = []\n",
        "url_list = []\n",
        "for j in soup.find_all(\"div\", {\"class\": \"py-4 border-bottom d-flex flex-justify-between\"}):\n",
        "  topic_name = re.split(\"> <\" ,j.find_all(\"p\")[0].text)[0]\n",
        "  url_sec = \"https://github.com\" +j.find(\"a\").get(\"href\")\n",
        "  url_test = requests.get(url_sec)\n",
        "  s = BeautifulSoup(url_test.text, \"html.parser\")\n",
        "  with open(f\"{topic_name}.csv\",  \"w\") as f:\n",
        "    writer = csv.writer(f)\n",
        "    writer.writerow([\"UserName\",\"Repositry name\",\"Rating\",\"Url\"])\n",
        "  for entity in s.find_all(\"div\", {\"class\": \"d-flex flex-justify-between flex-items-start flex-wrap gap-2 my-3\"}):\n",
        "\n",
        "    username = entity.find(\"h3\").find_all(\"a\")[1].get(\"href\").split(\"/\")[1]\n",
        "    repositry_name = entity.find(\"h3\").find_all(\"a\")[1].get(\"href\").split(\"/\")[2]\n",
        "    rating = entity.find_all(\"span\")[-1].get(\"aria-label\").split(\" \")[0]\n",
        "    url = \"https://github.com\" + entity.find(\"h3\").find_all(\"a\")[1].get(\"href\")\n",
        "\n",
        "    with open(f\"{topic_name}.csv\",  \"a+\") as f:\n",
        "          writer = csv.writer(f)\n",
        "          writer.writerow([username,repositry_name,rating,url])\n",
        "\n",
        "\n",
        "    username_list.append(entity.find(\"h3\").find_all(\"a\")[1].get(\"href\").split(\"/\")[1])\n",
        "    repositry_name_list.append(entity.find(\"h3\").find_all(\"a\")[1].get(\"href\").split(\"/\")[2])\n",
        "    rating_list.append(entity.find_all(\"span\")[-1].get(\"aria-label\").split(\" \")[0])\n",
        "    url_list.append(\"https://github.com\" + entity.find(\"h3\").find_all(\"a\")[1].get(\"href\"))\n"
      ],
      "metadata": {
        "id": "hItU2lKhkA3v"
      },
      "execution_count": 235,
      "outputs": []
    },
    {
      "cell_type": "markdown",
      "source": [
        "##Combining all the *csv* Files into one file called **Github Topics with their top 20 repositories.csv**"
      ],
      "metadata": {
        "id": "Qx4qxGRB4m5v"
      }
    },
    {
      "cell_type": "code",
      "source": [
        "#extract topics names\n",
        "topic_names = [re.split(\"> <\" ,i.find_all(\"p\")[0].text)[0] for i in soup.find_all(\"div\", {\"class\": \"py-4 border-bottom d-flex flex-justify-between\"})]\n",
        "topic_names"
      ],
      "metadata": {
        "id": "9_X6UiZjqv0f",
        "colab": {
          "base_uri": "https://localhost:8080/"
        },
        "outputId": "0f42ecce-7d9d-4ef2-f471-38b535d48fa7"
      },
      "execution_count": 237,
      "outputs": [
        {
          "output_type": "execute_result",
          "data": {
            "text/plain": [
              "['3D',\n",
              " 'Ajax',\n",
              " 'Algorithm',\n",
              " 'Amp',\n",
              " 'Android',\n",
              " 'Angular',\n",
              " 'Ansible',\n",
              " 'API',\n",
              " 'Arduino',\n",
              " 'ASP.NET',\n",
              " 'Atom',\n",
              " 'Awesome Lists',\n",
              " 'Amazon Web Services',\n",
              " 'Azure',\n",
              " 'Babel',\n",
              " 'Bash',\n",
              " 'Bitcoin',\n",
              " 'Bootstrap',\n",
              " 'Bot',\n",
              " 'C',\n",
              " 'Chrome',\n",
              " 'Chrome extension',\n",
              " 'Command line interface',\n",
              " 'Clojure',\n",
              " 'Code quality',\n",
              " 'Code review',\n",
              " 'Compiler',\n",
              " 'Continuous integration',\n",
              " 'COVID-19',\n",
              " 'C++']"
            ]
          },
          "metadata": {},
          "execution_count": 237
        }
      ]
    },
    {
      "cell_type": "code",
      "source": [
        "#combining all the csv files into one file\n",
        "combiened_data = pd.DataFrame(columns=[\"UserName\",\"Repositry name\",\"Rating\",\"Url\",\"Topic\"])\n",
        "for i in topic_names:\n",
        "  data = pd.read_csv(f\"{i}.csv\")\n",
        "  combiened_data = pd.concat([combiened_data,data], axis=0)\n",
        "  combiened_data = combiened_data.fillna(i)"
      ],
      "metadata": {
        "id": "qWNCF2lFqvuH"
      },
      "execution_count": 259,
      "outputs": []
    },
    {
      "cell_type": "code",
      "source": [
        "#save the csv file\n",
        "combiened_data.reset_index(inplace=True, drop=True)\n",
        "combiened_data.to_csv(\"Github Topics with their top 20 repositories.csv\")"
      ],
      "metadata": {
        "id": "_ck7oiD_qvnT"
      },
      "execution_count": 260,
      "outputs": []
    },
    {
      "cell_type": "code",
      "source": [],
      "metadata": {
        "id": "lxHNDrVF-Gh5"
      },
      "execution_count": null,
      "outputs": []
    }
  ]
}